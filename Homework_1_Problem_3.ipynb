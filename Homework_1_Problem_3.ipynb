{
  "metadata": {
    "language_info": {
      "codemirror_mode": {
        "name": "python",
        "version": 3
      },
      "file_extension": ".py",
      "mimetype": "text/x-python",
      "name": "python",
      "nbconvert_exporter": "python",
      "pygments_lexer": "ipython3",
      "version": "3.8"
    },
    "kernelspec": {
      "name": "python",
      "display_name": "Python (Pyodide)",
      "language": "python"
    },
    "colab": {
      "provenance": [],
      "collapsed_sections": [],
      "include_colab_link": true
    }
  },
  "nbformat_minor": 0,
  "nbformat": 4,
  "cells": [
    {
      "cell_type": "markdown",
      "metadata": {
        "id": "view-in-github",
        "colab_type": "text"
      },
      "source": [
        "<a href=\"https://colab.research.google.com/github/kylemccullough1/MachineLearning/blob/main/Homework_1_Problem_3.ipynb\" target=\"_parent\"><img src=\"https://colab.research.google.com/assets/colab-badge.svg\" alt=\"Open In Colab\"/></a>"
      ]
    },
    {
      "cell_type": "code",
      "source": [
        "import numpy as np"
      ],
      "metadata": {
        "trusted": true,
        "id": "xm9UDwpDuC-N"
      },
      "execution_count": null,
      "outputs": []
    },
    {
      "cell_type": "code",
      "source": [
        "a = np.array([[3, 3], [4, 2]])\n",
        "b = np.array([11.25, 10.00])\n",
        "\n",
        "print(np.linalg.solve(a,b))"
      ],
      "metadata": {
        "trusted": true,
        "id": "3lVKq6NiuC-P",
        "outputId": "f52b8d36-1f18-4b37-8415-7bf412379aa2"
      },
      "execution_count": null,
      "outputs": [
        {
          "name": "stdout",
          "text": "[1.25 2.5 ]\n",
          "output_type": "stream"
        }
      ]
    },
    {
      "cell_type": "code",
      "source": [],
      "metadata": {
        "id": "d4MlqeYkuC-R"
      },
      "execution_count": null,
      "outputs": []
    }
  ]
}
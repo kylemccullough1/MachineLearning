{
  "cells": [
    {
      "cell_type": "markdown",
      "metadata": {
        "id": "view-in-github",
        "colab_type": "text"
      },
      "source": [
        "<a href=\"https://colab.research.google.com/github/kylemccullough1/MachineLearning/blob/main/Homework_1_Problem_2.ipynb\" target=\"_parent\"><img src=\"https://colab.research.google.com/assets/colab-badge.svg\" alt=\"Open In Colab\"/></a>"
      ]
    },
    {
      "cell_type": "code",
      "execution_count": null,
      "metadata": {
        "id": "NeZWxUwNtsau"
      },
      "outputs": [],
      "source": [
        "import numpy as np\n",
        "import math\n",
        "import cv2 "
      ]
    },
    {
      "cell_type": "code",
      "execution_count": null,
      "metadata": {
        "colab": {
          "base_uri": "https://localhost:8080/"
        },
        "id": "0CVg076Rtsax",
        "outputId": "05d4000f-ed45-4a5d-ec1b-e43b71951a9c"
      },
      "outputs": [
        {
          "output_type": "execute_result",
          "data": {
            "text/plain": [
              "True"
            ]
          },
          "metadata": {},
          "execution_count": 2
        }
      ],
      "source": [
        "img = cv2.imread('test.png') \n",
        "point1 = np.array((255, 0, 0))\n",
        "point2 = np.array((0, 255, 0))\n",
        "point3 = np.array((0, 0, 255))\n",
        "img2 = np.copy(img)\n",
        "img3 = np.copy(img)\n",
        "for i, element in enumerate(img):\n",
        "    for j, pixel in enumerate(element):\n",
        "        temp1 = pixel - point1\n",
        "        temp2 = pixel - point2\n",
        "        temp3 = pixel - point3\n",
        "        sum_sq1 = np.dot(temp1.T, temp1)\n",
        "        sum_sq2 = np.dot(temp2.T, temp2)\n",
        "        sum_sq3 = np.dot(temp3.T, temp3)\n",
        "        eucl1 = np.sqrt(sum_sq1);\n",
        "        eucl2 = np.sqrt(sum_sq2);\n",
        "        eucl3 = np.sqrt(sum_sq3);\n",
        "        minDist = min(eucl1, eucl2, eucl3)\n",
        "        if minDist == eucl1:\n",
        "            img2[i,j] = point1\n",
        "        elif minDist == eucl2:\n",
        "            img2[i,j] = point2\n",
        "        else:\n",
        "            img2[i,j] = point3\n",
        "left = math.floor(img.shape[0]/2 - 25)\n",
        "right = math.floor(img.shape[0]/2 + 25)\n",
        "top = math.floor(img.shape[1]/2 + 25)\n",
        "bottom = math.floor(img.shape[1]/2 - 25)\n",
        "for i in range(left, right):\n",
        "    for j in range(bottom, top):\n",
        "        img3[i,j] = np.array([0,0,0])\n",
        "cv2.imwrite('output1.png', img2)\n",
        "cv2.imwrite('output2.png', img3)"
      ]
    },
    {
      "cell_type": "code",
      "execution_count": null,
      "metadata": {
        "id": "wxW8c4n5tsay"
      },
      "outputs": [],
      "source": []
    }
  ],
  "metadata": {
    "kernelspec": {
      "display_name": "Python 3 (ipykernel)",
      "language": "python",
      "name": "python3"
    },
    "language_info": {
      "codemirror_mode": {
        "name": "ipython",
        "version": 3
      },
      "file_extension": ".py",
      "mimetype": "text/x-python",
      "name": "python",
      "nbconvert_exporter": "python",
      "pygments_lexer": "ipython3",
      "version": "3.9.12"
    },
    "colab": {
      "provenance": [],
      "include_colab_link": true
    }
  },
  "nbformat": 4,
  "nbformat_minor": 0
}
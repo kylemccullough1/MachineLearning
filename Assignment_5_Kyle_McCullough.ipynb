{
  "nbformat": 4,
  "nbformat_minor": 0,
  "metadata": {
    "colab": {
      "provenance": [],
      "authorship_tag": "ABX9TyNeoQ/+vtKG7M8+o0VsrQ6Y",
      "include_colab_link": true
    },
    "kernelspec": {
      "name": "python3",
      "display_name": "Python 3"
    },
    "language_info": {
      "name": "python"
    }
  },
  "cells": [
    {
      "cell_type": "markdown",
      "metadata": {
        "id": "view-in-github",
        "colab_type": "text"
      },
      "source": [
        "<a href=\"https://colab.research.google.com/github/kylemccullough1/MachineLearning/blob/main/Assignment_5_Kyle_McCullough.ipynb\" target=\"_parent\"><img src=\"https://colab.research.google.com/assets/colab-badge.svg\" alt=\"Open In Colab\"/></a>"
      ]
    },
    {
      "cell_type": "code",
      "source": [
        "import math\n",
        "import numpy as np\n",
        "import cv2 "
      ],
      "metadata": {
        "id": "VAZJjYOqBxeB"
      },
      "execution_count": 1,
      "outputs": []
    },
    {
      "cell_type": "code",
      "execution_count": 15,
      "metadata": {
        "id": "ZK16wtNc_qsM",
        "colab": {
          "base_uri": "https://localhost:8080/"
        },
        "outputId": "96fbe6cf-9270-4c27-d1ab-7028b0c97734"
      },
      "outputs": [
        {
          "output_type": "stream",
          "name": "stdout",
          "text": [
            "Initial entropy is 1.0\n"
          ]
        }
      ],
      "source": [
        "# Question 1\n",
        "# intial entropy of taste\n",
        "meh = 5/10\n",
        "yummy = 5/10\n",
        "initial_entropy = (-1 * meh * (math.log(meh, 2)))  - (yummy * (math.log(yummy, 2)))\n",
        "print('Initial entropy is', initial_entropy)"
      ]
    },
    {
      "cell_type": "code",
      "source": [
        "# Question 2\n",
        "# Information gain from visual defects as the root of the decision tree\n",
        "some = 3/10\n",
        "none = 4/10\n",
        "many = 3/10\n",
        "\n",
        "some_meh = 3/3\n",
        "none_meh = 2/4\n",
        "none_yummy = 2/4\n",
        "many_meh = 3/3\n",
        "\n",
        "info_visual = (some * (-1 * some_meh * math.log(some_meh, 2))) + (none * ((-1 * none_meh * math.log(none_meh, 2)) - (none_yummy * math.log(none_yummy, 2)))) + (many * (-1 * many_meh * math.log(many_meh, 2)))\n",
        "gain = initial_entropy - info_visual\n",
        "print('Information gain is', gain)"
      ],
      "metadata": {
        "colab": {
          "base_uri": "https://localhost:8080/"
        },
        "id": "xzbfNcrz1Gt8",
        "outputId": "f618792e-04ed-4954-94ff-869ebac693db"
      },
      "execution_count": 16,
      "outputs": [
        {
          "output_type": "stream",
          "name": "stdout",
          "text": [
            "Information gain is 0.6\n"
          ]
        }
      ]
    },
    {
      "cell_type": "code",
      "source": [
        "# Question 3\n",
        "# Entropy of H(Taste | Visual Defect == Some)\n",
        "some_yummy = 0\n",
        "entropy_some = (-1 * some_meh * math.log(some_meh, 2))  - some_yummy\n",
        "print('H(Taste | Visual Defect == Some)', entropy_some)\n",
        "\n",
        "# Entropy of H(Taste | Visual Defect == None)\n",
        "entropy_none = (-1 * none_meh * math.log(none_meh, 2)) - (none_yummy * math.log(none_yummy, 2))\n",
        "print('H(Taste | Visual Defect == None)', entropy_none)"
      ],
      "metadata": {
        "colab": {
          "base_uri": "https://localhost:8080/"
        },
        "id": "1v8jJHZh6Puv",
        "outputId": "6f4ed968-f55f-4ae3-c4d9-206c599fe8e1"
      },
      "execution_count": 22,
      "outputs": [
        {
          "output_type": "stream",
          "name": "stdout",
          "text": [
            "H(Taste | Visual Defect == Some) -0.0\n",
            "H(Taste | Visual Defect == None) 1.0\n"
          ]
        }
      ]
    },
    {
      "cell_type": "markdown",
      "source": [
        "1. Initial entropy of taste is 1.0\n",
        "2. The information gain from having the root be visual defects is .6\n",
        "3. Entropy of H(Taste | Visual Defect == Some) is 0, and Entropy of H(Taste | Visual Defect == None) is 1.0"
      ],
      "metadata": {
        "id": "Q3pMWswdCoeU"
      }
    }
  ]
}
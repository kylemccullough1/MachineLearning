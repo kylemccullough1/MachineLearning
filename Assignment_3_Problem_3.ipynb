{
  "nbformat": 4,
  "nbformat_minor": 0,
  "metadata": {
    "colab": {
      "provenance": [],
      "collapsed_sections": [],
      "authorship_tag": "ABX9TyP7ioGMoRb3NYG/U1fEKChh",
      "include_colab_link": true
    },
    "kernelspec": {
      "name": "python3",
      "display_name": "Python 3"
    },
    "language_info": {
      "name": "python"
    }
  },
  "cells": [
    {
      "cell_type": "markdown",
      "metadata": {
        "id": "view-in-github",
        "colab_type": "text"
      },
      "source": [
        "<a href=\"https://colab.research.google.com/github/kylemccullough1/MachineLearning/blob/main/Assignment_3_Problem_3.ipynb\" target=\"_parent\"><img src=\"https://colab.research.google.com/assets/colab-badge.svg\" alt=\"Open In Colab\"/></a>"
      ]
    },
    {
      "cell_type": "markdown",
      "source": [
        "1. The input dimensions are 6x6 and the kernel dimensions are 3x3. The number of parameters in the kernel is 9.\n",
        "2. C = ((6-3+2*0)/1)+1 = 4, so the size is 4x4. \n",
        " - 7x1 + 5x0 + 0x-1 + 6x2 + 4x0 + 5x-2 + 9x1 + 0x0 + (-1)x2 = 18\n",
        " - 5x1 + 0x0 + 0x-1 + 4x2 + 5x0 + 1x-2 + 0x1 + 2x0 + 2x-1 = 9  \n",
        " - etc. etc.\n",
        "- So the output activation map is\n",
        "  - [[18,\t9,\t-4,\t-18],\n",
        "  - [17,\t-3,\t-10,\t-12,]\n",
        "  - [11,\t-9,\t-17,\t2],\n",
        "  - [9,\t-1,\t-15,\t16]]\n",
        "3. max([[18,9,-4], [17,-3,-10], [11,-9,-17]])=18\n",
        " - max([[9,-4, -18], [-3,-10, -12], [-9,-17,2]])=9\n",
        " - max([[17,-3,-10],  [11,-9,-17], [9,-1,-15]])=17\n",
        " - max([[-3,-10, -12],  [-9,-17,2], [-1,-15, 16]])=16\n",
        "- So, the output when applying an max-pooling operation\n",
        " - [[18, 9],\n",
        " - [17, 16]]\n"
      ],
      "metadata": {
        "id": "oPb1JLxRdbph"
      }
    },
    {
      "cell_type": "code",
      "source": [],
      "metadata": {
        "id": "rHgSmbZaibUT"
      },
      "execution_count": null,
      "outputs": []
    }
  ]
}
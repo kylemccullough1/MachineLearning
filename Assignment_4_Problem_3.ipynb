{
  "nbformat": 4,
  "nbformat_minor": 0,
  "metadata": {
    "colab": {
      "provenance": [],
      "authorship_tag": "ABX9TyPgIGv8w9OqwE8qVc//4Fe/",
      "include_colab_link": true
    },
    "kernelspec": {
      "name": "python3",
      "display_name": "Python 3"
    },
    "language_info": {
      "name": "python"
    }
  },
  "cells": [
    {
      "cell_type": "markdown",
      "metadata": {
        "id": "view-in-github",
        "colab_type": "text"
      },
      "source": [
        "<a href=\"https://colab.research.google.com/github/kylemccullough1/MachineLearning/blob/main/Assignment_4_Problem_3.ipynb\" target=\"_parent\"><img src=\"https://colab.research.google.com/assets/colab-badge.svg\" alt=\"Open In Colab\"/></a>"
      ]
    },
    {
      "cell_type": "code",
      "execution_count": 43,
      "metadata": {
        "colab": {
          "base_uri": "https://localhost:8080/"
        },
        "id": "S7OxuOzf2M8n",
        "outputId": "facdff04-339d-40c5-a338-3af647f277f3"
      },
      "outputs": [
        {
          "output_type": "stream",
          "name": "stdout",
          "text": [
            "Drive already mounted at /content/drive; to attempt to forcibly remount, call drive.mount(\"/content/drive\", force_remount=True).\n"
          ]
        }
      ],
      "source": [
        "import numpy as np\n",
        "import math\n",
        "import pandas as pd\n",
        "from sklearn.metrics import accuracy_score\n",
        "from operator import itemgetter\n",
        "from matplotlib import pyplot as plt\n",
        "from google.colab import drive\n",
        "drive.mount('/content/drive')"
      ]
    },
    {
      "cell_type": "code",
      "source": [
        "# Load all the data\n",
        "dataset = pd.ExcelFile(\"/content/drive/MyDrive/Assignment_4/Asssignment4_Data.xlsx\")\n",
        "# I renamed the sheets to be Train and Test\n",
        "train_data = pd.read_excel(dataset, 'Train')\n",
        "test_data = pd.read_excel(dataset, 'Test')\n",
        "train_data, test_data = train_data.drop(columns=['House ID']), test_data.drop(columns=['House ID'])\n",
        "test_data"
      ],
      "metadata": {
        "colab": {
          "base_uri": "https://localhost:8080/",
          "height": 206
        },
        "id": "3yy44E-C26uX",
        "outputId": "eba5c925-d081-483f-e2ce-dc2c56e149d4"
      },
      "execution_count": 50,
      "outputs": [
        {
          "output_type": "execute_result",
          "data": {
            "text/plain": [
              "   Local Price  Bathrooms  Land Area  Living area  # Garages  # Rooms  \\\n",
              "0       6.0931        1.5     6.7265        1.652        1.0        6   \n",
              "1       8.3607        1.5     9.1500        1.777        2.0        8   \n",
              "2       8.1400        1.0     8.0000        1.504        2.0        7   \n",
              "3       9.1416        1.5     7.3262        1.831        1.5        8   \n",
              "4      12.0000        1.5     5.0000        1.200        2.0        6   \n",
              "\n",
              "   # Bedrooms  Age of home Construction type  \n",
              "0           3           44         Apartment  \n",
              "1           4           48             House  \n",
              "2           3            3             House  \n",
              "3           4           31         Apartment  \n",
              "4           3           30         Apartment  "
            ],
            "text/html": [
              "\n",
              "  <div id=\"df-5f808550-08ad-4dc3-8fea-b2c9e211ed7d\">\n",
              "    <div class=\"colab-df-container\">\n",
              "      <div>\n",
              "<style scoped>\n",
              "    .dataframe tbody tr th:only-of-type {\n",
              "        vertical-align: middle;\n",
              "    }\n",
              "\n",
              "    .dataframe tbody tr th {\n",
              "        vertical-align: top;\n",
              "    }\n",
              "\n",
              "    .dataframe thead th {\n",
              "        text-align: right;\n",
              "    }\n",
              "</style>\n",
              "<table border=\"1\" class=\"dataframe\">\n",
              "  <thead>\n",
              "    <tr style=\"text-align: right;\">\n",
              "      <th></th>\n",
              "      <th>Local Price</th>\n",
              "      <th>Bathrooms</th>\n",
              "      <th>Land Area</th>\n",
              "      <th>Living area</th>\n",
              "      <th># Garages</th>\n",
              "      <th># Rooms</th>\n",
              "      <th># Bedrooms</th>\n",
              "      <th>Age of home</th>\n",
              "      <th>Construction type</th>\n",
              "    </tr>\n",
              "  </thead>\n",
              "  <tbody>\n",
              "    <tr>\n",
              "      <th>0</th>\n",
              "      <td>6.0931</td>\n",
              "      <td>1.5</td>\n",
              "      <td>6.7265</td>\n",
              "      <td>1.652</td>\n",
              "      <td>1.0</td>\n",
              "      <td>6</td>\n",
              "      <td>3</td>\n",
              "      <td>44</td>\n",
              "      <td>Apartment</td>\n",
              "    </tr>\n",
              "    <tr>\n",
              "      <th>1</th>\n",
              "      <td>8.3607</td>\n",
              "      <td>1.5</td>\n",
              "      <td>9.1500</td>\n",
              "      <td>1.777</td>\n",
              "      <td>2.0</td>\n",
              "      <td>8</td>\n",
              "      <td>4</td>\n",
              "      <td>48</td>\n",
              "      <td>House</td>\n",
              "    </tr>\n",
              "    <tr>\n",
              "      <th>2</th>\n",
              "      <td>8.1400</td>\n",
              "      <td>1.0</td>\n",
              "      <td>8.0000</td>\n",
              "      <td>1.504</td>\n",
              "      <td>2.0</td>\n",
              "      <td>7</td>\n",
              "      <td>3</td>\n",
              "      <td>3</td>\n",
              "      <td>House</td>\n",
              "    </tr>\n",
              "    <tr>\n",
              "      <th>3</th>\n",
              "      <td>9.1416</td>\n",
              "      <td>1.5</td>\n",
              "      <td>7.3262</td>\n",
              "      <td>1.831</td>\n",
              "      <td>1.5</td>\n",
              "      <td>8</td>\n",
              "      <td>4</td>\n",
              "      <td>31</td>\n",
              "      <td>Apartment</td>\n",
              "    </tr>\n",
              "    <tr>\n",
              "      <th>4</th>\n",
              "      <td>12.0000</td>\n",
              "      <td>1.5</td>\n",
              "      <td>5.0000</td>\n",
              "      <td>1.200</td>\n",
              "      <td>2.0</td>\n",
              "      <td>6</td>\n",
              "      <td>3</td>\n",
              "      <td>30</td>\n",
              "      <td>Apartment</td>\n",
              "    </tr>\n",
              "  </tbody>\n",
              "</table>\n",
              "</div>\n",
              "      <button class=\"colab-df-convert\" onclick=\"convertToInteractive('df-5f808550-08ad-4dc3-8fea-b2c9e211ed7d')\"\n",
              "              title=\"Convert this dataframe to an interactive table.\"\n",
              "              style=\"display:none;\">\n",
              "        \n",
              "  <svg xmlns=\"http://www.w3.org/2000/svg\" height=\"24px\"viewBox=\"0 0 24 24\"\n",
              "       width=\"24px\">\n",
              "    <path d=\"M0 0h24v24H0V0z\" fill=\"none\"/>\n",
              "    <path d=\"M18.56 5.44l.94 2.06.94-2.06 2.06-.94-2.06-.94-.94-2.06-.94 2.06-2.06.94zm-11 1L8.5 8.5l.94-2.06 2.06-.94-2.06-.94L8.5 2.5l-.94 2.06-2.06.94zm10 10l.94 2.06.94-2.06 2.06-.94-2.06-.94-.94-2.06-.94 2.06-2.06.94z\"/><path d=\"M17.41 7.96l-1.37-1.37c-.4-.4-.92-.59-1.43-.59-.52 0-1.04.2-1.43.59L10.3 9.45l-7.72 7.72c-.78.78-.78 2.05 0 2.83L4 21.41c.39.39.9.59 1.41.59.51 0 1.02-.2 1.41-.59l7.78-7.78 2.81-2.81c.8-.78.8-2.07 0-2.86zM5.41 20L4 18.59l7.72-7.72 1.47 1.35L5.41 20z\"/>\n",
              "  </svg>\n",
              "      </button>\n",
              "      \n",
              "  <style>\n",
              "    .colab-df-container {\n",
              "      display:flex;\n",
              "      flex-wrap:wrap;\n",
              "      gap: 12px;\n",
              "    }\n",
              "\n",
              "    .colab-df-convert {\n",
              "      background-color: #E8F0FE;\n",
              "      border: none;\n",
              "      border-radius: 50%;\n",
              "      cursor: pointer;\n",
              "      display: none;\n",
              "      fill: #1967D2;\n",
              "      height: 32px;\n",
              "      padding: 0 0 0 0;\n",
              "      width: 32px;\n",
              "    }\n",
              "\n",
              "    .colab-df-convert:hover {\n",
              "      background-color: #E2EBFA;\n",
              "      box-shadow: 0px 1px 2px rgba(60, 64, 67, 0.3), 0px 1px 3px 1px rgba(60, 64, 67, 0.15);\n",
              "      fill: #174EA6;\n",
              "    }\n",
              "\n",
              "    [theme=dark] .colab-df-convert {\n",
              "      background-color: #3B4455;\n",
              "      fill: #D2E3FC;\n",
              "    }\n",
              "\n",
              "    [theme=dark] .colab-df-convert:hover {\n",
              "      background-color: #434B5C;\n",
              "      box-shadow: 0px 1px 3px 1px rgba(0, 0, 0, 0.15);\n",
              "      filter: drop-shadow(0px 1px 2px rgba(0, 0, 0, 0.3));\n",
              "      fill: #FFFFFF;\n",
              "    }\n",
              "  </style>\n",
              "\n",
              "      <script>\n",
              "        const buttonEl =\n",
              "          document.querySelector('#df-5f808550-08ad-4dc3-8fea-b2c9e211ed7d button.colab-df-convert');\n",
              "        buttonEl.style.display =\n",
              "          google.colab.kernel.accessAllowed ? 'block' : 'none';\n",
              "\n",
              "        async function convertToInteractive(key) {\n",
              "          const element = document.querySelector('#df-5f808550-08ad-4dc3-8fea-b2c9e211ed7d');\n",
              "          const dataTable =\n",
              "            await google.colab.kernel.invokeFunction('convertToInteractive',\n",
              "                                                     [key], {});\n",
              "          if (!dataTable) return;\n",
              "\n",
              "          const docLinkHtml = 'Like what you see? Visit the ' +\n",
              "            '<a target=\"_blank\" href=https://colab.research.google.com/notebooks/data_table.ipynb>data table notebook</a>'\n",
              "            + ' to learn more about interactive tables.';\n",
              "          element.innerHTML = '';\n",
              "          dataTable['output_type'] = 'display_data';\n",
              "          await google.colab.output.renderOutput(dataTable, element);\n",
              "          const docLink = document.createElement('div');\n",
              "          docLink.innerHTML = docLinkHtml;\n",
              "          element.appendChild(docLink);\n",
              "        }\n",
              "      </script>\n",
              "    </div>\n",
              "  </div>\n",
              "  "
            ]
          },
          "metadata": {},
          "execution_count": 50
        }
      ]
    },
    {
      "cell_type": "code",
      "source": [
        "X_train = train_data.drop([train_data.columns[-1]], axis = 1)\n",
        "y_train = train_data[train_data.columns[-1]]\n",
        "X_test = test_data.drop([test_data.columns[-1]], axis = 1)\n",
        "y_test = test_data[test_data.columns[-1]]"
      ],
      "metadata": {
        "id": "_qxyMGVnBy3m"
      },
      "execution_count": 25,
      "outputs": []
    },
    {
      "cell_type": "code",
      "source": [
        "def euclidean_distance(point1, point2):\n",
        "\tdistance = 0.0\n",
        "\tfor i in range(len(point1)-1):\n",
        "\t\tdistance += (point1[i] - point2[i])**2\n",
        "\treturn math.sqrt(distance)"
      ],
      "metadata": {
        "id": "muluWq-Q9qfR"
      },
      "execution_count": 14,
      "outputs": []
    },
    {
      "cell_type": "code",
      "source": [
        "def get_neighbors(points, point2, num_neighbors):\n",
        "\tdistances = []\n",
        "\tfor point1 in points:\n",
        "\t\tdist = euclidean_distance(point1, point2)\n",
        "\t\tdistances.append((point1, dist))\n",
        "\tdistances.sort(key=itemgetter(1))\n",
        "\tneighbors = []\n",
        "\tfor i in range(num_neighbors):\n",
        "\t\tneighbors.append(distances[i][0])\n",
        "\treturn neighbors"
      ],
      "metadata": {
        "id": "WilaaDow-LPT"
      },
      "execution_count": 16,
      "outputs": []
    },
    {
      "cell_type": "code",
      "source": [
        "def prediction(neighbors, points, y):\n",
        "  apartment = 0\n",
        "  condo = 0\n",
        "  house = 0\n",
        "  for i in range(len(neighbors)):\n",
        "    # print(y[points.index(neighbors[i])])\n",
        "    if(y[points.index(neighbors[i])] == 'Apartment'):\n",
        "       apartment += 1\n",
        "    elif(y[points.index(neighbors[i])] == 'Condo'):\n",
        "      condo += 1\n",
        "    else:\n",
        "      house += 1\n",
        "  if(apartment >= condo and apartment >= house):\n",
        "    return 'Apartment'\n",
        "  elif(condo >= apartment and condo >= house):\n",
        "    return 'Condo'\n",
        "  else:\n",
        "    return 'House'"
      ],
      "metadata": {
        "id": "sAM15aRLAVAb"
      },
      "execution_count": 36,
      "outputs": []
    },
    {
      "cell_type": "code",
      "source": [
        "def k_nearest(k, points, y):\n",
        "  predictions = []\n",
        "  for i in range(len(points)):\n",
        "    neighbors = get_neighbors(points, points[i], k)\n",
        "    predictions.append(prediction(neighbors, points, y))\n",
        "  return predictions"
      ],
      "metadata": {
        "id": "adNNHJsBDLqv"
      },
      "execution_count": 38,
      "outputs": []
    },
    {
      "cell_type": "code",
      "source": [
        "features_test=list(zip(X_test['Local Price'], X_test['Bathrooms'], X_test['Land Area'], X_test['Living area'], X_test['# Garages'], X_test['# Rooms'], X_test['# Bedrooms'], X_test['Age of home']))\n",
        "\n",
        "accuracy = []\n",
        "for i in range(5):\n",
        "  i = i + 1\n",
        "  predictions = k_nearest(i, features_test, y_test)\n",
        "  accuracy.append(accuracy_score(predictions, y_test))\n",
        "\n",
        "plt.plot([1,2,3,4,5], accuracy)\n",
        "plt.axis([1, 5, 0, 1.1])\n",
        "plt.xlabel('Number of neighbors')\n",
        "plt.ylabel('Accuracy')\n",
        "plt.show\n",
        "# I believe the reason the accuracy is really weird is because of a lack of data in the test set. The test set does not even include an example of condo, and\n",
        "# by the time it has 5 neighbors, it is basically just saying everything is Apartment because in the test set, the majority vote would be Apartment."
      ],
      "metadata": {
        "colab": {
          "base_uri": "https://localhost:8080/",
          "height": 296
        },
        "id": "WarVMdLi3B17",
        "outputId": "2c6acb57-b750-4f05-f35d-efb4b0bd4e2d"
      },
      "execution_count": 68,
      "outputs": [
        {
          "output_type": "execute_result",
          "data": {
            "text/plain": [
              "<function matplotlib.pyplot.show(*args, **kw)>"
            ]
          },
          "metadata": {},
          "execution_count": 68
        },
        {
          "output_type": "display_data",
          "data": {
            "text/plain": [
              "<Figure size 432x288 with 1 Axes>"
            ],
            "image/png": "[encoded data removed]"
          },
          "metadata": {
            "needs_background": "light"
          }
        }
      ]
    }
  ]
}